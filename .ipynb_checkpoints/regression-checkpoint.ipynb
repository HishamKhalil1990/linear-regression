{
 "cells": [
  {
   "cell_type": "code",
   "execution_count": 1,
   "id": "d15d5463-b030-4428-b52e-63fc81d4a89b",
   "metadata": {},
   "outputs": [],
   "source": [
    "import pandas as pd\n",
    "%matplotlib inline\n",
    "import matplotlib.pyplot as plt\n",
    "from sklearn.linear_model import LinearRegression\n",
    "from sklearn.model_selection import train_test_split\n",
    "import seaborn as sns"
   ]
  },
  {
   "cell_type": "code",
   "execution_count": 2,
   "id": "d8940968-925c-4daf-a995-8461e6199319",
   "metadata": {},
   "outputs": [
    {
     "data": {
      "text/html": [
       "<div>\n",
       "<style scoped>\n",
       "    .dataframe tbody tr th:only-of-type {\n",
       "        vertical-align: middle;\n",
       "    }\n",
       "\n",
       "    .dataframe tbody tr th {\n",
       "        vertical-align: top;\n",
       "    }\n",
       "\n",
       "    .dataframe thead th {\n",
       "        text-align: right;\n",
       "    }\n",
       "</style>\n",
       "<table border=\"1\" class=\"dataframe\">\n",
       "  <thead>\n",
       "    <tr style=\"text-align: right;\">\n",
       "      <th></th>\n",
       "      <th>Dataset order</th>\n",
       "      <th>Sepal length</th>\n",
       "      <th>Sepal width</th>\n",
       "      <th>Petal length</th>\n",
       "      <th>Petal width</th>\n",
       "      <th>Species</th>\n",
       "    </tr>\n",
       "  </thead>\n",
       "  <tbody>\n",
       "    <tr>\n",
       "      <th>0</th>\n",
       "      <td>1</td>\n",
       "      <td>5.1</td>\n",
       "      <td>3.5</td>\n",
       "      <td>1.4</td>\n",
       "      <td>0.2</td>\n",
       "      <td>I.setosa</td>\n",
       "    </tr>\n",
       "    <tr>\n",
       "      <th>1</th>\n",
       "      <td>2</td>\n",
       "      <td>4.9</td>\n",
       "      <td>3.0</td>\n",
       "      <td>1.4</td>\n",
       "      <td>0.2</td>\n",
       "      <td>I.setosa</td>\n",
       "    </tr>\n",
       "    <tr>\n",
       "      <th>2</th>\n",
       "      <td>3</td>\n",
       "      <td>4.7</td>\n",
       "      <td>3.2</td>\n",
       "      <td>1.3</td>\n",
       "      <td>0.2</td>\n",
       "      <td>I.setosa</td>\n",
       "    </tr>\n",
       "    <tr>\n",
       "      <th>3</th>\n",
       "      <td>4</td>\n",
       "      <td>4.6</td>\n",
       "      <td>3.1</td>\n",
       "      <td>1.5</td>\n",
       "      <td>0.2</td>\n",
       "      <td>I.setosa</td>\n",
       "    </tr>\n",
       "    <tr>\n",
       "      <th>4</th>\n",
       "      <td>5</td>\n",
       "      <td>5.0</td>\n",
       "      <td>3.6</td>\n",
       "      <td>1.4</td>\n",
       "      <td>0.3</td>\n",
       "      <td>I.setosa</td>\n",
       "    </tr>\n",
       "  </tbody>\n",
       "</table>\n",
       "</div>"
      ],
      "text/plain": [
       "   Dataset order  Sepal length  Sepal width  Petal length  Petal width  \\\n",
       "0              1           5.1          3.5           1.4          0.2   \n",
       "1              2           4.9          3.0           1.4          0.2   \n",
       "2              3           4.7          3.2           1.3          0.2   \n",
       "3              4           4.6          3.1           1.5          0.2   \n",
       "4              5           5.0          3.6           1.4          0.3   \n",
       "\n",
       "    Species  \n",
       "0  I.setosa  \n",
       "1  I.setosa  \n",
       "2  I.setosa  \n",
       "3  I.setosa  \n",
       "4  I.setosa  "
      ]
     },
     "execution_count": 2,
     "metadata": {},
     "output_type": "execute_result"
    }
   ],
   "source": [
    "df = pd.read_csv(\"./Iris-flowers.csv\")\n",
    "df.head(5)"
   ]
  },
  {
   "cell_type": "code",
   "execution_count": 3,
   "id": "b4e96e57-7d05-41a7-bc61-384f3bbf86d8",
   "metadata": {},
   "outputs": [
    {
     "data": {
      "text/html": [
       "<div>\n",
       "<style scoped>\n",
       "    .dataframe tbody tr th:only-of-type {\n",
       "        vertical-align: middle;\n",
       "    }\n",
       "\n",
       "    .dataframe tbody tr th {\n",
       "        vertical-align: top;\n",
       "    }\n",
       "\n",
       "    .dataframe thead th {\n",
       "        text-align: right;\n",
       "    }\n",
       "</style>\n",
       "<table border=\"1\" class=\"dataframe\">\n",
       "  <thead>\n",
       "    <tr style=\"text-align: right;\">\n",
       "      <th></th>\n",
       "      <th>Dataset order</th>\n",
       "      <th>Sepal length</th>\n",
       "      <th>Sepal width</th>\n",
       "      <th>Petal length</th>\n",
       "      <th>Petal width</th>\n",
       "    </tr>\n",
       "  </thead>\n",
       "  <tbody>\n",
       "    <tr>\n",
       "      <th>count</th>\n",
       "      <td>149.000000</td>\n",
       "      <td>149.000000</td>\n",
       "      <td>149.000000</td>\n",
       "      <td>149.000000</td>\n",
       "      <td>149.000000</td>\n",
       "    </tr>\n",
       "    <tr>\n",
       "      <th>mean</th>\n",
       "      <td>75.000000</td>\n",
       "      <td>5.842953</td>\n",
       "      <td>3.057718</td>\n",
       "      <td>3.748993</td>\n",
       "      <td>1.195973</td>\n",
       "    </tr>\n",
       "    <tr>\n",
       "      <th>std</th>\n",
       "      <td>43.156691</td>\n",
       "      <td>0.830846</td>\n",
       "      <td>0.437311</td>\n",
       "      <td>1.767791</td>\n",
       "      <td>0.762365</td>\n",
       "    </tr>\n",
       "    <tr>\n",
       "      <th>min</th>\n",
       "      <td>1.000000</td>\n",
       "      <td>4.300000</td>\n",
       "      <td>2.000000</td>\n",
       "      <td>1.000000</td>\n",
       "      <td>0.100000</td>\n",
       "    </tr>\n",
       "    <tr>\n",
       "      <th>25%</th>\n",
       "      <td>38.000000</td>\n",
       "      <td>5.100000</td>\n",
       "      <td>2.800000</td>\n",
       "      <td>1.600000</td>\n",
       "      <td>0.300000</td>\n",
       "    </tr>\n",
       "    <tr>\n",
       "      <th>50%</th>\n",
       "      <td>75.000000</td>\n",
       "      <td>5.800000</td>\n",
       "      <td>3.000000</td>\n",
       "      <td>4.300000</td>\n",
       "      <td>1.300000</td>\n",
       "    </tr>\n",
       "    <tr>\n",
       "      <th>75%</th>\n",
       "      <td>112.000000</td>\n",
       "      <td>6.400000</td>\n",
       "      <td>3.300000</td>\n",
       "      <td>5.100000</td>\n",
       "      <td>1.800000</td>\n",
       "    </tr>\n",
       "    <tr>\n",
       "      <th>max</th>\n",
       "      <td>149.000000</td>\n",
       "      <td>7.900000</td>\n",
       "      <td>4.400000</td>\n",
       "      <td>6.900000</td>\n",
       "      <td>2.500000</td>\n",
       "    </tr>\n",
       "  </tbody>\n",
       "</table>\n",
       "</div>"
      ],
      "text/plain": [
       "       Dataset order  Sepal length  Sepal width  Petal length  Petal width\n",
       "count     149.000000    149.000000   149.000000    149.000000   149.000000\n",
       "mean       75.000000      5.842953     3.057718      3.748993     1.195973\n",
       "std        43.156691      0.830846     0.437311      1.767791     0.762365\n",
       "min         1.000000      4.300000     2.000000      1.000000     0.100000\n",
       "25%        38.000000      5.100000     2.800000      1.600000     0.300000\n",
       "50%        75.000000      5.800000     3.000000      4.300000     1.300000\n",
       "75%       112.000000      6.400000     3.300000      5.100000     1.800000\n",
       "max       149.000000      7.900000     4.400000      6.900000     2.500000"
      ]
     },
     "execution_count": 3,
     "metadata": {},
     "output_type": "execute_result"
    }
   ],
   "source": [
    "df.describe()"
   ]
  },
  {
   "cell_type": "code",
   "execution_count": 4,
   "id": "2f3dd746-eb47-4f4b-9bef-f7e6718814b1",
   "metadata": {},
   "outputs": [
    {
     "name": "stdout",
     "output_type": "stream",
     "text": [
      "<class 'pandas.core.frame.DataFrame'>\n",
      "RangeIndex: 149 entries, 0 to 148\n",
      "Data columns (total 6 columns):\n",
      " #   Column         Non-Null Count  Dtype  \n",
      "---  ------         --------------  -----  \n",
      " 0   Dataset order  149 non-null    int64  \n",
      " 1   Sepal length   149 non-null    float64\n",
      " 2   Sepal width    149 non-null    float64\n",
      " 3   Petal length   149 non-null    float64\n",
      " 4   Petal width    149 non-null    float64\n",
      " 5   Species        149 non-null    object \n",
      "dtypes: float64(4), int64(1), object(1)\n",
      "memory usage: 7.1+ KB\n"
     ]
    }
   ],
   "source": [
    "df.info()"
   ]
  },
  {
   "cell_type": "code",
   "execution_count": 5,
   "id": "40dbefe7-ae18-4129-a049-545d5f21ff5a",
   "metadata": {},
   "outputs": [],
   "source": [
    "X = df[\"Petal length\"].values.reshape(-1,1)"
   ]
  },
  {
   "cell_type": "code",
   "execution_count": 6,
   "id": "8f20eec1-be21-42cc-9dad-109a188453c2",
   "metadata": {},
   "outputs": [],
   "source": [
    "y = df[\"Petal width\"].values"
   ]
  },
  {
   "cell_type": "code",
   "execution_count": 7,
   "id": "d1496be3-8764-4cd5-a8da-a72189d76cc7",
   "metadata": {},
   "outputs": [],
   "source": [
    "X_train, X_test, y_train, y_test = train_test_split(X,y,test_size = 0.25, random_state = 4)"
   ]
  },
  {
   "cell_type": "code",
   "execution_count": 8,
   "id": "3a4d3dc3-a00c-4580-ab51-edf298c9daa1",
   "metadata": {},
   "outputs": [
    {
     "data": {
      "text/plain": [
       "LinearRegression()"
      ]
     },
     "execution_count": 8,
     "metadata": {},
     "output_type": "execute_result"
    }
   ],
   "source": [
    "model = LinearRegression()\n",
    "model.fit(X_train, y_train)"
   ]
  },
  {
   "cell_type": "code",
   "execution_count": 9,
   "id": "e27933b9-4f93-48ce-8910-d1bb681ce285",
   "metadata": {},
   "outputs": [
    {
     "data": {
      "text/plain": [
       "array([0.30723875, 0.30723875, 0.18263472, 1.76095249, 0.2241694 ,\n",
       "       0.26570407, 1.26253635, 0.34877343, 1.22100167, 0.2241694 ,\n",
       "       2.01016055, 0.34877343, 0.14110004, 1.76095249, 1.80248716,\n",
       "       0.18263472, 0.30723875, 1.13793231, 0.30723875, 1.42867506,\n",
       "       1.47020974, 0.43184279, 1.76095249, 0.26570407, 1.96862588,\n",
       "       0.18263472, 0.34877343, 2.38397266, 0.14110004, 1.88555652,\n",
       "       1.96862588, 0.2241694 , 1.47020974, 1.51174442, 1.76095249,\n",
       "       1.76095249, 1.3456057 , 2.25936862])"
      ]
     },
     "execution_count": 9,
     "metadata": {},
     "output_type": "execute_result"
    }
   ],
   "source": [
    "y_hat = model.predict(X_test)\n",
    "y_hat"
   ]
  },
  {
   "cell_type": "code",
   "execution_count": 10,
   "id": "25a514ed-6202-4e32-a684-a87a55b2491e",
   "metadata": {},
   "outputs": [
    {
     "data": {
      "text/plain": [
       "91.7748524857731"
      ]
     },
     "execution_count": 10,
     "metadata": {},
     "output_type": "execute_result"
    }
   ],
   "source": [
    "accurcy = model.score(X_test,y_test)\n",
    "accurcy*100"
   ]
  },
  {
   "cell_type": "code",
   "execution_count": 17,
   "id": "25e93186-3a8e-49a7-8f91-31205c4aa9f7",
   "metadata": {},
   "outputs": [
    {
     "data": {
      "image/png": "[encoded data removed]",
      "text/plain": [
       "<Figure size 432x288 with 1 Axes>"
      ]
     },
     "metadata": {
      "needs_background": "light"
     },
     "output_type": "display_data"
    }
   ],
   "source": [
    "plt.scatter(X,y,color = \"blue\")\n",
    "plt.plot(X,model.predict(X), color = \"red\")\n",
    "plt.xlabel('Petal length')\n",
    "plt.ylabel('Petal width')\n",
    "plt.show()"
   ]
  },
  {
   "cell_type": "markdown",
   "id": "4c5e2ced-42c4-4e3b-9c76-718b6a5ac926",
   "metadata": {},
   "source": [
    "## it is better to split the data at least to 70% train data set and 30% test data set"
   ]
  },
  {
   "cell_type": "markdown",
   "id": "c9b5fcc8-286b-4ef9-bf24-539846aa1dd0",
   "metadata": {},
   "source": [
    "## spliting data into train set and test set ensure the model predicting values and not memorizing when determining the accurecy for the model"
   ]
  },
  {
   "cell_type": "markdown",
   "id": "30c6243d-73e5-489d-a05f-5ab0c9d6c511",
   "metadata": {},
   "source": [
    "## linear regression is useful for predicting values for a specific independent variable when the model score is high"
   ]
  },
  {
   "cell_type": "code",
   "execution_count": null,
   "id": "1c24c188-b681-4422-ae10-d663a0d3ad64",
   "metadata": {},
   "outputs": [],
   "source": []
  }
 ],
 "metadata": {
  "kernelspec": {
   "display_name": "Python 3",
   "language": "python",
   "name": "python3"
  },
  "language_info": {
   "codemirror_mode": {
    "name": "ipython",
    "version": 3
   },
   "file_extension": ".py",
   "mimetype": "text/x-python",
   "name": "python",
   "nbconvert_exporter": "python",
   "pygments_lexer": "ipython3",
   "version": "3.8.5"
  }
 },
 "nbformat": 4,
 "nbformat_minor": 5
}
